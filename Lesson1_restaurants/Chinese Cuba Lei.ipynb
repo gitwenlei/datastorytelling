{
 "metadata": {
  "name": ""
 },
 "nbformat": 3,
 "nbformat_minor": 0,
 "worksheets": [
  {
   "cells": [
    {
     "cell_type": "heading",
     "level": 2,
     "metadata": {},
     "source": [
      "Restaurant Inspection Analysis"
     ]
    },
    {
     "cell_type": "markdown",
     "metadata": {},
     "source": [
      "For today's project, we'll be using public restaurant inspection data from New York City. Specifically, we'll be looking at all inspection scores for _hamburger_ restaurants (yes, this is a category of restaurants).\n",
      "\n",
      "First, let's load the data."
     ]
    },
    {
     "cell_type": "code",
     "collapsed": false,
     "input": [
      "restaurant_data = mlab.csv2rec(\"data/chinesecuba_all.txt\")"
     ],
     "language": "python",
     "metadata": {},
     "outputs": [],
     "prompt_number": 11
    },
    {
     "cell_type": "markdown",
     "metadata": {},
     "source": [
      "I extracted the data over the command line: cat WebExtract.txt | grep '\"21\",\"201' > chinesecuba_all.txt "
     ]
    },
    {
     "cell_type": "markdown",
     "metadata": {},
     "source": [
      "...and let's take a look at the first row.\n",
      "\n",
      "If we look at the raw data file, the headers are:"
     ]
    },
    {
     "cell_type": "raw",
     "metadata": {},
     "source": [
      "\"CAMIS\",\"DBA\",\"BORO\",\"BUILDING\",\"STREET\",\"ZIPCODE\",\"PHONE\",\"CUISINECODE\",\"INSPDATE\",\"ACTION\",\"VIOLCODE\",\"SCORE\",\"CURRENTGRADE\",\"GRADEDATE\",\"RECORDDATE\""
     ]
    },
    {
     "cell_type": "code",
     "collapsed": false,
     "input": [
      "restaurant_data[1]"
     ],
     "language": "python",
     "metadata": {},
     "outputs": [
      {
       "metadata": {},
       "output_type": "pyout",
       "prompt_number": 14,
       "text": [
        "(40393118, 'LA NUEVA VICTORIA RESTAURANT', 1, '2536', 'BROADWAY', 10025, 2128651810, 21, datetime.datetime(2013, 5, 1, 0, 0), 'D', '10H', 7, 'A', datetime.date(2013, 5, 1), datetime.datetime(2013, 9, 13, 1, 1, 6, 177000))"
       ]
      }
     ],
     "prompt_number": 14
    },
    {
     "cell_type": "code",
     "collapsed": false,
     "input": [
      "scores = []\n",
      "for restaurant in restaurant_data:\n",
      "    scores.append(restaurant[11])\n",
      "    # print restaurant[11]"
     ],
     "language": "python",
     "metadata": {},
     "outputs": [],
     "prompt_number": 25
    },
    {
     "cell_type": "code",
     "collapsed": false,
     "input": [
      "min(scores)"
     ],
     "language": "python",
     "metadata": {},
     "outputs": [
      {
       "metadata": {},
       "output_type": "pyout",
       "prompt_number": 21,
       "text": [
        "-1"
       ]
      }
     ],
     "prompt_number": 21
    },
    {
     "cell_type": "code",
     "collapsed": false,
     "input": [
      "max(scores)"
     ],
     "language": "python",
     "metadata": {},
     "outputs": [
      {
       "metadata": {},
       "output_type": "pyout",
       "prompt_number": 22,
       "text": [
        "97"
       ]
      }
     ],
     "prompt_number": 22
    },
    {
     "cell_type": "code",
     "collapsed": false,
     "input": [
      "plt.plot(scores)"
     ],
     "language": "python",
     "metadata": {},
     "outputs": [
      {
       "metadata": {},
       "output_type": "pyout",
       "prompt_number": 23,
       "text": [
        "[<matplotlib.lines.Line2D at 0x10f12d6d0>]"
       ]
      },
      {
       "metadata": {},
       "output_type": "display_data",
       "png": "[encoded data removed]",
       "text": [
        "<matplotlib.figure.Figure at 0x10f0b2f50>"
       ]
      }
     ],
     "prompt_number": 23
    },
    {
     "cell_type": "code",
     "collapsed": false,
     "input": [
      "n, bins, patches = pyplot.hist(scores)"
     ],
     "language": "python",
     "metadata": {},
     "outputs": [
      {
       "metadata": {},
       "output_type": "display_data",
       "png": "[encoded data removed]",
       "text": [
        "<matplotlib.figure.Figure at 0x10f0b2a50>"
       ]
      }
     ],
     "prompt_number": 26
    },
    {
     "cell_type": "code",
     "collapsed": false,
     "input": [
      "n, bins, patches = pyplot.hist(scores,100)"
     ],
     "language": "python",
     "metadata": {},
     "outputs": [
      {
       "metadata": {},
       "output_type": "display_data",
       "png": "[encoded data removed]",
       "text": [
        "<matplotlib.figure.Figure at 0x10f476410>"
       ]
      }
     ],
     "prompt_number": 38
    },
    {
     "cell_type": "markdown",
     "metadata": {},
     "source": [
      "There's a spike at 12 and 26.\n",
      "An attempt to keep business within the A & B Grade.\n",
      "\n",
      "\"Restaurants with a score between 0 and 13 points earn an A, those with 14 to 27 points receive a B and those with 28 or more a C. Inspection results are posted on the Health Department\u2019s website.\""
     ]
    },
    {
     "cell_type": "code",
     "collapsed": false,
     "input": [
      "numpy.median(scores)"
     ],
     "language": "python",
     "metadata": {},
     "outputs": [
      {
       "metadata": {},
       "output_type": "pyout",
       "prompt_number": 27,
       "text": [
        "27.0"
       ]
      }
     ],
     "prompt_number": 27
    },
    {
     "cell_type": "code",
     "collapsed": false,
     "input": [
      "#numpy.mean(scores) # This does not work with scores.var (unable to compute)\n",
      "scores = numpy.asarray(scores) # ...or we can convert the data to a numpy array\n",
      "scores.mean() #... which comes with some special powers"
     ],
     "language": "python",
     "metadata": {},
     "outputs": [
      {
       "metadata": {},
       "output_type": "pyout",
       "prompt_number": 33,
       "text": [
        "29.587458745874589"
       ]
      }
     ],
     "prompt_number": 33
    },
    {
     "cell_type": "code",
     "collapsed": false,
     "input": [
      "scores.var()"
     ],
     "language": "python",
     "metadata": {},
     "outputs": [
      {
       "metadata": {},
       "output_type": "pyout",
       "prompt_number": 34,
       "text": [
        "311.18294502717617"
       ]
      }
     ],
     "prompt_number": 34
    },
    {
     "cell_type": "markdown",
     "metadata": {},
     "source": [
      "Higher variance score compared to hamburgers."
     ]
    },
    {
     "cell_type": "code",
     "collapsed": false,
     "input": [
      "numpy.std(scores)"
     ],
     "language": "python",
     "metadata": {},
     "outputs": [
      {
       "metadata": {},
       "output_type": "pyout",
       "prompt_number": 35,
       "text": [
        "17.640378256351994"
       ]
      }
     ],
     "prompt_number": 35
    },
    {
     "cell_type": "code",
     "collapsed": false,
     "input": [
      "for record in restaurant_data:\n",
      "    if record[11] == 97:\n",
      "        print record\n",
      "        break"
     ],
     "language": "python",
     "metadata": {},
     "outputs": [
      {
       "output_type": "stream",
       "stream": "stdout",
       "text": [
        "(41641295, 'SWEET HEART LOVELY BAKERY', 3, '123', 'AVENUE U', 11223, 7189962885, 21, datetime.datetime(2012, 2, 13, 0, 0), 'G', '08A', 97, '', datetime.date(1, 1, 1), datetime.datetime(2013, 9, 13, 1, 1, 6, 177000))\n"
       ]
      }
     ],
     "prompt_number": 39
    },
    {
     "cell_type": "markdown",
     "metadata": {},
     "source": [
      "We found the worst <a href=\"http://www.city-data.com/ny-restaurants/OK-BAKERY-II.html\"> chinese cuba restaurant!</a> Same address but different name. It was called OK II Bakery in 2009."
     ]
    },
    {
     "cell_type": "code",
     "collapsed": false,
     "input": [
      "sweetheart_data = mlab.csv2rec(\"data/sweetheart.txt\")"
     ],
     "language": "python",
     "metadata": {},
     "outputs": [],
     "prompt_number": 41
    },
    {
     "cell_type": "code",
     "collapsed": false,
     "input": [
      "sweetheart_data[1]"
     ],
     "language": "python",
     "metadata": {},
     "outputs": [
      {
       "metadata": {},
       "output_type": "pyout",
       "prompt_number": 42,
       "text": [
        "(41641295, 'SWEET HEART LOVELY BAKERY', 3, 123, 'AVENUE U', 11223, 7189962885, 21, datetime.date(2013, 6, 7), 'D', '10B', 9, 'A', datetime.date(2013, 6, 7), datetime.datetime(2013, 9, 13, 1, 1, 6, 177000))"
       ]
      }
     ],
     "prompt_number": 42
    },
    {
     "cell_type": "code",
     "collapsed": false,
     "input": [
      "s = cbook.Sorter() \n",
      "s(sweetheart_data) # sort the data\n",
      "\n",
      "[(sweetheart[8], sweetheart[11]) for sweetheart in sweetheart_data][0:25]"
     ],
     "language": "python",
     "metadata": {},
     "outputs": [
      {
       "metadata": {},
       "output_type": "pyout",
       "prompt_number": 48,
       "text": [
        "[(datetime.date(2012, 2, 2), 28),\n",
        " (datetime.date(2012, 2, 2), 28),\n",
        " (datetime.date(2012, 2, 2), 28),\n",
        " (datetime.date(2012, 2, 2), 28),\n",
        " (datetime.date(2012, 2, 13), 97),\n",
        " (datetime.date(2012, 2, 13), 97),\n",
        " (datetime.date(2012, 2, 13), 97),\n",
        " (datetime.date(2012, 2, 13), 97),\n",
        " (datetime.date(2012, 2, 13), 97),\n",
        " (datetime.date(2012, 2, 13), 97),\n",
        " (datetime.date(2012, 2, 13), 97),\n",
        " (datetime.date(2012, 2, 13), 97),\n",
        " (datetime.date(2012, 2, 13), 97),\n",
        " (datetime.date(2012, 2, 13), 97),\n",
        " (datetime.date(2012, 2, 15), 14),\n",
        " (datetime.date(2012, 2, 15), 14),\n",
        " (datetime.date(2012, 2, 15), 14),\n",
        " (datetime.date(2012, 5, 10), 8),\n",
        " (datetime.date(2012, 5, 10), 8),\n",
        " (datetime.date(2013, 5, 8), 24),\n",
        " (datetime.date(2013, 5, 8), 24),\n",
        " (datetime.date(2013, 5, 8), 24),\n",
        " (datetime.date(2013, 6, 7), 9),\n",
        " (datetime.date(2013, 6, 7), 9)]"
       ]
      }
     ],
     "prompt_number": 48
    },
    {
     "cell_type": "code",
     "collapsed": false,
     "input": [
      "s = cbook.Sorter() \n",
      "s(sweetheart_data) # sort the data\n",
      "\n",
      "# create seperate lists for each of our two series\n",
      "all_dates = [sweetheart[8] for sweetheart in sweetheart_data]\n",
      "scores = [sweetheart[11] for sweetheart in sweetheart_data]\n",
      "\n",
      "pyplot.plot(all_dates, scores) # make a graph!"
     ],
     "language": "python",
     "metadata": {},
     "outputs": [
      {
       "metadata": {},
       "output_type": "pyout",
       "prompt_number": 49,
       "text": [
        "[<matplotlib.lines.Line2D at 0x10fa5ac10>]"
       ]
      },
      {
       "metadata": {},
       "output_type": "display_data",
       "png": "[encoded data removed]",
       "text": [
        "<matplotlib.figure.Figure at 0x10f5425d0>"
       ]
      }
     ],
     "prompt_number": 49
    },
    {
     "cell_type": "markdown",
     "metadata": {},
     "source": [
      "Sweetheart Bakery scored '97' on 13 Feb 2012 but was reinstated to 'A' grade in 2013. There were no records between May 2012 to May 2013. Were they closed for a year? Did they have new management?"
     ]
    },
    {
     "cell_type": "code",
     "collapsed": false,
     "input": [
      "pyplot.plot(all_dates, scores)"
     ],
     "language": "python",
     "metadata": {},
     "outputs": [
      {
       "metadata": {},
       "output_type": "pyout",
       "prompt_number": 54,
       "text": [
        "[<matplotlib.lines.Line2D at 0x10f5ae250>]"
       ]
      },
      {
       "metadata": {},
       "output_type": "display_data",
       "png": "[encoded data removed]",
       "text": [
        "<matplotlib.figure.Figure at 0x10f3afb90>"
       ]
      }
     ],
     "prompt_number": 54
    },
    {
     "cell_type": "code",
     "collapsed": false,
     "input": [
      "n, bins, patches = pyplot.hist(scores)"
     ],
     "language": "python",
     "metadata": {},
     "outputs": [
      {
       "metadata": {},
       "output_type": "display_data",
       "png": "[encoded data removed]",
       "text": [
        "<matplotlib.figure.Figure at 0x10f4fcf50>"
       ]
      }
     ],
     "prompt_number": 53
    },
    {
     "cell_type": "markdown",
     "metadata": {},
     "source": [
      "There are so many questions to ask!\n",
      "\n",
      " * Where should I go to get burgers near NYU?\n",
      " * How do burger restaurant scores compare, overall, to Japanese restaurants? Why might this be?\n",
      " * Are there any cuisines for which the variance of scores is very high? Why do you think that might be the case?"
     ]
    },
    {
     "cell_type": "code",
     "collapsed": false,
     "input": [],
     "language": "python",
     "metadata": {},
     "outputs": []
    }
   ],
   "metadata": {}
  }
 ]
}